{
  "nbformat": 4,
  "nbformat_minor": 0,
  "metadata": {
    "colab": {
      "provenance": [],
      "authorship_tag": "ABX9TyNybsq4eKMWc90Nx2kKinkA",
      "include_colab_link": true
    },
    "kernelspec": {
      "name": "python3",
      "display_name": "Python 3"
    },
    "language_info": {
      "name": "python"
    }
  },
  "cells": [
    {
      "cell_type": "markdown",
      "metadata": {
        "id": "view-in-github",
        "colab_type": "text"
      },
      "source": [
        "<a href=\"https://colab.research.google.com/github/mauro9318/Data-science-ALURA/blob/main/conceptos_basicos.ipynb\" target=\"_parent\"><img src=\"https://colab.research.google.com/assets/colab-badge.svg\" alt=\"Open In Colab\"/></a>"
      ]
    },
    {
      "cell_type": "markdown",
      "source": [
        "#**Python para Data Science**\n",
        "\n",
        "Notebook para el curso de PYthon para data Science\n"
      ],
      "metadata": {
        "id": "PAWnWLCNrPAr"
      }
    },
    {
      "cell_type": "markdown",
      "source": [
        "Google Colab es una herramienta que permite escribir y ejecutar código en Python a través de un navegador, sin necesidad de instalar ningún software adicional. Funciona mediante el uso de una máquina virtual, que es esencialmente un sistema virtual que simula una computadora.\n",
        "\n",
        "Cuando creamos, cargamos o subimos un nuevo documento en Colab, estamos creando una máquina virtual que se ejecuta en uno de los servidores de Google. Esta máquina virtual tiene acceso a una serie de recursos, como CPU, memoria y almacenamiento, que se utilizan para ejecutar el código.\n",
        "\n",
        "Es importante destacar que esta máquina virtual es temporal, lo que significa que se crea cuando abrimos Colab y se cierra cuando lo cerramos o cuando expira el tiempo de ejecución de la máquina. Esto significa que cualquier dato que carguemos en la máquina virtual se perderá cuando se cierre."
      ],
      "metadata": {
        "id": "gUm6fpmqsO0D"
      }
    },
    {
      "cell_type": "markdown",
      "source": [
        "#**HOLA MUNDO***\n",
        "Ejecucion de primer comando.\n",
        "Para conocer mas sobre las funciones a usar en python se puede buscar informacion sobre las **builtin function**."
      ],
      "metadata": {
        "id": "zLWtj6nUsrs5"
      }
    },
    {
      "cell_type": "code",
      "source": [
        "print(\"Hola Mundo\")"
      ],
      "metadata": {
        "colab": {
          "base_uri": "https://localhost:8080/"
        },
        "id": "FLoPdPGCsi99",
        "outputId": "2c0211b5-6b79-418b-b681-e06ebda52fc9"
      },
      "execution_count": null,
      "outputs": [
        {
          "output_type": "stream",
          "name": "stdout",
          "text": [
            "Hola Mundo\n"
          ]
        }
      ]
    },
    {
      "cell_type": "code",
      "source": [
        "print(\"Nombre: Angelo Mauricio \")\n",
        "print(\"Apellidos: Flores Soria\")"
      ],
      "metadata": {
        "colab": {
          "base_uri": "https://localhost:8080/"
        },
        "id": "S-1WR6Hjt_Y7",
        "outputId": "eb370f5c-e5c0-4929-e858-e562779e552c"
      },
      "execution_count": null,
      "outputs": [
        {
          "output_type": "stream",
          "name": "stdout",
          "text": [
            "Nombre: Angelo Mauricio \n",
            "Apellidos: Flores Soria\n"
          ]
        }
      ]
    },
    {
      "cell_type": "markdown",
      "source": [
        "#Comentarios en python\n",
        "Los comentarios son líneas de texto que se pueden colocar dentro del código y que son ignoradas por el intérprete. Por eso, sirven para explicar el funcionamiento del código a otras personas o incluso a la persona que programa. Son importantes para documentar el código, describiendo lo que hace y para qué sirve cada función, estructura o método. Esto puede hacer que el código sea más legible y fácil de entender.\n",
        "Podemos construir dos tipos de comentarios en Python, de una y varias líneas.\n"
      ],
      "metadata": {
        "id": "jqbahGBUyHqg"
      }
    },
    {
      "cell_type": "markdown",
      "source": [
        "\n",
        "\n",
        "1.   Comentarios de una línea: Estos comentarios se hacen agregando un símbolo de almohadilla/numeral (#) al principio de una línea de código. Todo lo que venga después del símbolo # en una línea se considerará un comentario.\n",
        "2.   Elemento de varias líneas: Los comentarios de varias líneas se hacen usando un conjunto de comillas triples: ''' o \"\"\". Todo lo que esté entre estas comillas triples se considerará un comentario, incluso si abarca varias líneas.\n",
        "\n"
      ],
      "metadata": {
        "id": "5mbAe1Q9yY2f"
      }
    },
    {
      "cell_type": "code",
      "source": [
        "# Este es un comentario de una línea\n",
        "print(10) # Podemos colocar otro comentario en una línea después de un código\n"
      ],
      "metadata": {
        "colab": {
          "base_uri": "https://localhost:8080/"
        },
        "id": "aoBqOWJZysUa",
        "outputId": "afa5fbca-50f2-49dd-9b8c-1fb0418d3ebb"
      },
      "execution_count": null,
      "outputs": [
        {
          "output_type": "stream",
          "name": "stdout",
          "text": [
            "10\n"
          ]
        }
      ]
    },
    {
      "cell_type": "code",
      "source": [
        "'''\n",
        "Este es un comentario\n",
        "de varias líneas.\n",
        "'''\n"
      ],
      "metadata": {
        "id": "NcVmi3u3yvco"
      },
      "execution_count": null,
      "outputs": []
    },
    {
      "cell_type": "markdown",
      "source": [
        "#TIPOS DE VARIABLES\n",
        "\n",
        "Cada variable contiene una clase especifica con respecto al tipo de objeto al que hace referencia. Estas clases seran diferentes de acuerdo con el tipo de dato que le sea atribuido a una variable."
      ],
      "metadata": {
        "id": "-QecwLZGzFLp"
      }
    },
    {
      "cell_type": "code",
      "source": [
        "edad = 5\n",
        "type(edad)\n"
      ],
      "metadata": {
        "colab": {
          "base_uri": "https://localhost:8080/"
        },
        "id": "-VQ7V-WHzfD_",
        "outputId": "d766af10-a3e3-4dd9-ffa2-fad15cdfd018"
      },
      "execution_count": null,
      "outputs": [
        {
          "output_type": "execute_result",
          "data": {
            "text/plain": [
              "str"
            ]
          },
          "metadata": {},
          "execution_count": 13
        }
      ]
    },
    {
      "cell_type": "code",
      "source": [
        "nombre = \"Mauricio\"\n",
        "type(nombre)"
      ],
      "metadata": {
        "colab": {
          "base_uri": "https://localhost:8080/"
        },
        "id": "3twYBhrdzt7h",
        "outputId": "4be17fef-ee8b-40fc-e01f-750d7bb6008e"
      },
      "execution_count": null,
      "outputs": [
        {
          "output_type": "execute_result",
          "data": {
            "text/plain": [
              "str"
            ]
          },
          "metadata": {},
          "execution_count": 14
        }
      ]
    },
    {
      "cell_type": "code",
      "source": [
        "condicion = True\n",
        "type(condicion)"
      ],
      "metadata": {
        "colab": {
          "base_uri": "https://localhost:8080/"
        },
        "id": "FEDV2l1fzzSY",
        "outputId": "9faf834b-80ea-4dd0-de38-9af8e820213b"
      },
      "execution_count": null,
      "outputs": [
        {
          "output_type": "execute_result",
          "data": {
            "text/plain": [
              "bool"
            ]
          },
          "metadata": {},
          "execution_count": 15
        }
      ]
    },
    {
      "cell_type": "markdown",
      "source": [
        "**STRINGS**\n",
        "\n",
        "Strings hace referencia a un conjunto de caracteres formando un texto. Se puede crear strings cuando se atribuye un dato a una variable entre comillas sencillas '' o comillas dobles\"\". Los objetos del tipo string tienen distintos metodos que pueden ser usados."
      ],
      "metadata": {
        "id": "9mET9SWt22Bf"
      }
    },
    {
      "cell_type": "code",
      "source": [
        "t = 'Alura'\n",
        "type(t)"
      ],
      "metadata": {
        "colab": {
          "base_uri": "https://localhost:8080/"
        },
        "id": "x8nBqQOocpF0",
        "outputId": "bec04e13-1fa1-4905-f48d-c45de8a37b09"
      },
      "execution_count": null,
      "outputs": [
        {
          "output_type": "execute_result",
          "data": {
            "text/plain": [
              "str"
            ]
          },
          "metadata": {},
          "execution_count": 1
        }
      ]
    },
    {
      "cell_type": "code",
      "source": [
        "texto = ' HOLA QUE TAL'\n",
        "id(texto)"
      ],
      "metadata": {
        "colab": {
          "base_uri": "https://localhost:8080/"
        },
        "id": "gNrDCs1bc6JA",
        "outputId": "bb8b4614-d004-4139-9bd1-8ab7486c5a3d"
      },
      "execution_count": null,
      "outputs": [
        {
          "output_type": "execute_result",
          "data": {
            "text/plain": [
              "139482395209520"
            ]
          },
          "metadata": {},
          "execution_count": 2
        }
      ]
    },
    {
      "cell_type": "code",
      "source": [
        "texto.lower()"
      ],
      "metadata": {
        "colab": {
          "base_uri": "https://localhost:8080/",
          "height": 35
        },
        "id": "C_nKF0grdEth",
        "outputId": "5a314f56-3e11-4821-ca31-1e6030fa2f98"
      },
      "execution_count": null,
      "outputs": [
        {
          "output_type": "execute_result",
          "data": {
            "text/plain": [
              "' hola que tal'"
            ],
            "application/vnd.google.colaboratory.intrinsic+json": {
              "type": "string"
            }
          },
          "metadata": {},
          "execution_count": 3
        }
      ]
    },
    {
      "cell_type": "code",
      "source": [
        "texto.strip()"
      ],
      "metadata": {
        "colab": {
          "base_uri": "https://localhost:8080/",
          "height": 35
        },
        "id": "DK8uuoN5dIuP",
        "outputId": "8c3cfdd6-bc60-4d82-bf8a-b4e9da7d2aec"
      },
      "execution_count": null,
      "outputs": [
        {
          "output_type": "execute_result",
          "data": {
            "text/plain": [
              "'HOLA QUE TAL'"
            ],
            "application/vnd.google.colaboratory.intrinsic+json": {
              "type": "string"
            }
          },
          "metadata": {},
          "execution_count": 4
        }
      ]
    },
    {
      "cell_type": "code",
      "source": [
        "nuevoTextoMinuscula = texto.lower()\n",
        "print(id(nuevoTextoMinuscula))\n",
        "print(nuevoTextoMinuscula)"
      ],
      "metadata": {
        "colab": {
          "base_uri": "https://localhost:8080/"
        },
        "id": "p_MNBGU7dbKA",
        "outputId": "8cd7e9cd-9ce1-465c-9e5d-d7e4c4c5b3fd"
      },
      "execution_count": null,
      "outputs": [
        {
          "output_type": "stream",
          "name": "stdout",
          "text": [
            "139482397380016\n",
            " hola que tal\n"
          ]
        }
      ]
    },
    {
      "cell_type": "markdown",
      "source": [
        "**CAPTURA DE DATOS**\n",
        "\n",
        "En algunas aplicaciones se necesita capturar los valores del usuario. En Python, se puede lograr capturar los datos del usario con la funcion input"
      ],
      "metadata": {
        "id": "4av0to-7eMPm"
      }
    },
    {
      "cell_type": "code",
      "source": [
        "nombre = input(\"Escruba su nombre: \").upper()\n",
        "\n",
        "print(f'HOLA {nombre} \\nUn gusto conocerte' )\n",
        "type(nombre)"
      ],
      "metadata": {
        "colab": {
          "base_uri": "https://localhost:8080/"
        },
        "id": "2uJPueNEegHK",
        "outputId": "cfd2e7bf-c695-43c4-9eae-8395bd714779"
      },
      "execution_count": null,
      "outputs": [
        {
          "output_type": "stream",
          "name": "stdout",
          "text": [
            "Escruba su nombre: mauricio\n",
            "HOLA MAURICIO \n",
            "Un gusto conocerte\n"
          ]
        },
        {
          "output_type": "execute_result",
          "data": {
            "text/plain": [
              "str"
            ]
          },
          "metadata": {},
          "execution_count": 15
        }
      ]
    },
    {
      "cell_type": "markdown",
      "source": [
        "***ESTANDAR UNICODE***\n",
        "\n",
        "Python es un lenguaje de programación caracterizado por el uso del estándar Unicode de caracteres. Este estándar permite que desarrolladores de todo el mundo trabajen con textos y caracteres en diferentes idiomas de manera muy sencilla, sin preocuparse por problemas de compatibilidad.\n",
        "\n",
        "Esto fue posible gracias al desarrollo de la tabla Unicode, una tabla de codificación de caracteres que asocia códigos numéricos con caracteres específicos. Su objetivo era incluir caracteres de todos los idiomas y sistemas de escritura existentes en el mundo. Hasta la versión 15.0, el estándar ya agrupa más de 140,000 caracteres, que incluyen letras, números, símbolos y emojis. Puedes ver las estadísticas de cada versión y la cantidad de caracteres por versión en este enlace.\n",
        "\n",
        "Además, Unicode surgió como una alternativa a otras tablas de caracteres, como ASCII, que solo admite caracteres del alfabeto inglés y algunos símbolos. Por lo tanto, es muy importante ya que permite la representación de caracteres de diferentes idiomas (como la \"ç\" en portugués, la \"ñ\" en español o la \"П\" en ruso) y scripts de manera consistente e independiente del dispositivo o plataforma, lo que es fundamental para la globalización y la representación precisa de textos en diferentes idiomas.\n",
        "\n",
        "Es importante recordar que la tabla Unicode se actualiza y se expande constantemente, incluyendo nuevos caracteres y scripts. Esto asegura que siga siendo relevante y útil para admitir la representación de todos los idiomas y sistemas de escritura del mundo. Puedes seguir las actualizaciones en el sitio unicode.org y acceder a las codificaciones de cada carácter de este estándar en la Wikipedia o en documentos oficiales en PDF.\n",
        "\n",
        "\n",
        "Podemos imprimir un elemento de la tabla Unicode en nuestro cuaderno utilizando la función chr, que devuelve una cadena con el carácter especificado. Su sintaxis es la siguiente: chr(número_del_carácter). Por ejemplo, vamos a imprimir el carácter \"@\" con chr(). Según la tabla, sabemos que \"@\" corresponde al número 64, así que lo reprodujimos:\n",
        "\n",
        "\n",
        "\n",
        "\n"
      ],
      "metadata": {
        "id": "sukuLU7KhOTg"
      }
    },
    {
      "cell_type": "code",
      "source": [
        "chr(64)\n"
      ],
      "metadata": {
        "colab": {
          "base_uri": "https://localhost:8080/",
          "height": 35
        },
        "id": "ortc_vRjhoY2",
        "outputId": "96ea1b89-10fe-46be-9c45-9428ad220c94"
      },
      "execution_count": null,
      "outputs": [
        {
          "output_type": "execute_result",
          "data": {
            "text/plain": [
              "'@'"
            ],
            "application/vnd.google.colaboratory.intrinsic+json": {
              "type": "string"
            }
          },
          "metadata": {},
          "execution_count": 16
        }
      ]
    },
    {
      "cell_type": "markdown",
      "source": [
        "Se pueden probar y observar varias combinaciones de números en las salidas. Siéntete libre de probar varias combinaciones e incluso crear frases.\n",
        "\n",
        "También es posible concatenar cadenas con el operador \"+\". Sabiendo esto, si unimos varios caracteres, podemos formar una palabra. Por ejemplo, vamos a construir la palabra \"Hola\" ('H' + 'o' + 'l' + 'a'):\n",
        "\n",
        "\n"
      ],
      "metadata": {
        "id": "VIf_v-85hrkO"
      }
    },
    {
      "cell_type": "code",
      "source": [
        "chr(72) + chr(111) +  chr(108) + chr(97)\n"
      ],
      "metadata": {
        "colab": {
          "base_uri": "https://localhost:8080/",
          "height": 35
        },
        "id": "nKocAmn8hvzu",
        "outputId": "b636670d-d22d-4702-f5e0-26211aede100"
      },
      "execution_count": null,
      "outputs": [
        {
          "output_type": "execute_result",
          "data": {
            "text/plain": [
              "'Hola'"
            ],
            "application/vnd.google.colaboratory.intrinsic+json": {
              "type": "string"
            }
          },
          "metadata": {},
          "execution_count": 17
        }
      ]
    },
    {
      "cell_type": "markdown",
      "source": [
        "***FORMATO DE IMPRESION***\n",
        "\n",
        "Podemos visualizar el resultado de variables dentro de cadenas de texto, así como imprimir el texto final con un print. Durante la lección, aprendimos a utilizar la f-string (formateo de cadena), en la que colocamos una f antes de crear la cadena y las variables se colocan entre llaves {}. Ejemplo:"
      ],
      "metadata": {
        "id": "tWdmSzAViCde"
      }
    },
    {
      "cell_type": "code",
      "source": [
        "nombre = \"Ana María\"\n",
        "edad = 17\n",
        "print(f\"El nombre de la alumna es {nombre} y su edad es {edad} años.\")\n"
      ],
      "metadata": {
        "colab": {
          "base_uri": "https://localhost:8080/"
        },
        "id": "gY3cSjjtiOXv",
        "outputId": "9087d2fa-b0af-4a2c-dbf3-3ca17d406e70"
      },
      "execution_count": null,
      "outputs": [
        {
          "output_type": "stream",
          "name": "stdout",
          "text": [
            "El nombre de la alumna es Ana María y su edad es 17 años.\n"
          ]
        }
      ]
    },
    {
      "cell_type": "markdown",
      "source": [
        "***OPERADOR DE FORMATEO***\n",
        "\n",
        "Este operador de formateo permite la inserción de variables en puntos específicos en la cadena de texto utilizando el operador %. Este operador funciona como un marcador, indicando dónde se expondrá el valor de la variable en la cadena.\n",
        "\n",
        "El % debe ir acompañado de una palabra clave para cada tipo de variable que se desee agregar. De acuerdo con la tabla siguiente:\n",
        "\n",
        "\n",
        "\n",
        "TIPO DE VARIABLE       PALABRA CLAVE\n",
        "cadena de texto         %s\n",
        "entero                  %d\n",
        "punto flotante          %f\n",
        "caracter                %c\n",
        "\n",
        "De esta manera, para insertar una variable, puedes agregar el operador en la cadena en el punto deseado. Luego del final de la cadena, agrega nuevamente el %, especificando la variable entre paréntesis. Podemos ver esta estructura en el ejemplo siguiente:\n",
        "\n"
      ],
      "metadata": {
        "id": "DBsJl59fi0Bu"
      }
    },
    {
      "cell_type": "code",
      "source": [
        "nombre_alumno = 'Penélope Camacho'\n",
        "print('Nombre del alumno: %s' %(nombre_alumno))\n"
      ],
      "metadata": {
        "colab": {
          "base_uri": "https://localhost:8080/"
        },
        "id": "IYGMINK_jTc3",
        "outputId": "066adb47-2389-4e84-d96c-9409091ebc7d"
      },
      "execution_count": null,
      "outputs": [
        {
          "output_type": "stream",
          "name": "stdout",
          "text": [
            "Nombre del alumno: Penélope Camacho\n"
          ]
        }
      ]
    },
    {
      "cell_type": "markdown",
      "source": [
        "Si hay más de una variable, debes ordenarlas según su aparición en el texto y separarlas por comas. Por ejemplo:"
      ],
      "metadata": {
        "id": "GFGUKI-ojbRG"
      }
    },
    {
      "cell_type": "code",
      "source": [
        "nombre_alumno = 'Penélope Camacho'\n",
        "edad_alumno = 11\n",
        "media_alumno = 9.95\n",
        "print('Nombre del alumno es %s, tiene %d años y su media es %f.' %(nombre_alumno, edad_alumno, media_alumno))\n"
      ],
      "metadata": {
        "id": "SwzhE2wQjdkG"
      },
      "execution_count": null,
      "outputs": []
    },
    {
      "cell_type": "markdown",
      "source": [
        "Cuando se trabaja con números de coma flotante (float), podemos determinar la cantidad de decimales después del punto utilizando la sintaxis %.xf, donde x es el número de decimales deseados. Utilizando las mismas variables del ejemplo anterior, el código con %.xf se vería así:"
      ],
      "metadata": {
        "id": "SwnLmf2wjoCG"
      }
    },
    {
      "cell_type": "code",
      "source": [
        "nombre_alumno = 'Penélope Camacho'\n",
        "edad_alumno = 11\n",
        "media_alumno = 9.95\n",
        "\n",
        "print('Nombre del alumno es %s, tiene %d años y su media es %.2f.' %(nombre_alumno, edad_alumno, media_alumno))\n"
      ],
      "metadata": {
        "colab": {
          "base_uri": "https://localhost:8080/"
        },
        "id": "lUyp5nVPjrW-",
        "outputId": "329c54e5-6b52-4884-8873-16f1b3d095e2"
      },
      "execution_count": null,
      "outputs": [
        {
          "output_type": "stream",
          "name": "stdout",
          "text": [
            "Nombre del alumno es Penélope Camacho, tiene 11 años y su media es 9.95.\n"
          ]
        }
      ]
    },
    {
      "cell_type": "markdown",
      "source": [
        "Un detalle importante es que los operadores de formateo de cadena con % no funcionan directamente con valores booleanos. Una forma de manejarlo es convirtiendo el valor booleano en una cadena antes de utilizarlo en el formateo con la función str(). Por ejemplo:"
      ],
      "metadata": {
        "id": "KQKSBVqmj7IQ"
      }
    },
    {
      "cell_type": "code",
      "source": [
        "x = True\n",
        "print(\"Valor de x: %s\" % str(x))\n"
      ],
      "metadata": {
        "colab": {
          "base_uri": "https://localhost:8080/"
        },
        "id": "55XuYrf6kCOA",
        "outputId": "6b2cdb3e-fb4a-456d-c1a5-0e260babb2a2"
      },
      "execution_count": null,
      "outputs": [
        {
          "output_type": "stream",
          "name": "stdout",
          "text": [
            "Valor de x: True\n"
          ]
        }
      ]
    },
    {
      "cell_type": "markdown",
      "source": [
        "Método .format():\n",
        "\n",
        "También es posible utilizar el método .format() para formatear cadenas. Es más flexible y permite pasar las variables directamente dentro de la cadena, sin necesidad de operadores %. Los marcadores son simplemente {}. Por ejemplo:"
      ],
      "metadata": {
        "id": "OmZUK2PGkgrn"
      }
    },
    {
      "cell_type": "code",
      "source": [
        "nombre_alumno = 'Penélope Camacho'\n",
        "print('Nombre del alumno: {}'.format(nombre_alumno))\n"
      ],
      "metadata": {
        "colab": {
          "base_uri": "https://localhost:8080/"
        },
        "id": "v-rrA6bnkkaw",
        "outputId": "23767b1c-0e50-42e3-f467-de2d58a86488"
      },
      "execution_count": null,
      "outputs": [
        {
          "output_type": "stream",
          "name": "stdout",
          "text": [
            "Nombre del alumno: Penélope Camacho\n"
          ]
        }
      ]
    },
    {
      "cell_type": "markdown",
      "source": [
        "Del mismo modo que se hace con el operador, puedes usarlo con varias variables:\n",
        "\n"
      ],
      "metadata": {
        "id": "vtJhUr7skn1m"
      }
    },
    {
      "cell_type": "code",
      "source": [
        "nombre_alumno = 'Fabricio Daniel'\n",
        "edad_alumno = 15\n",
        "media_alumno = 9.95\n",
        "print('Nombre del alumno es {}, tiene {} años y su media es {}.' .format(nombre_alumno, edad_alumno, media_alumno))\n"
      ],
      "metadata": {
        "colab": {
          "base_uri": "https://localhost:8080/"
        },
        "id": "URhs2jidko8X",
        "outputId": "02dd4f9c-d24c-4daf-d9dd-75ba152ffb36"
      },
      "execution_count": null,
      "outputs": [
        {
          "output_type": "stream",
          "name": "stdout",
          "text": [
            "Nombre del alumno es Fabricio Daniel, tiene 15 años y su media es 9.95.\n"
          ]
        }
      ]
    },
    {
      "cell_type": "markdown",
      "source": [
        "Nota que con .format(), no tienes el problema de los decimales de coma flotante. Tampoco tienes este problema con las f-strings."
      ],
      "metadata": {
        "id": "JsJGSUYUkuf3"
      }
    },
    {
      "cell_type": "markdown",
      "source": [
        "CARACTERES ESPECIALES\n",
        "\n",
        "Además de la formateo de inserción de variables en una cadena, también existen caracteres especiales. Se utilizan para representar acciones especiales o caracteres que no se pueden escribir directamente, como el “Enter” y la tabulación. A continuación, presentamos algunos de ellos. Intenta replicar todos los ejemplos y observa el resultado final.\n"
      ],
      "metadata": {
        "id": "kwrUaB6mk28-"
      }
    },
    {
      "cell_type": "markdown",
      "source": [
        "\\n es el carácter de nueva línea y se usa para saltar una línea en el texto (similar a la función \"Enter\"). Ejemplo:"
      ],
      "metadata": {
        "id": "nTfc_bmllhMw"
      }
    },
    {
      "cell_type": "code",
      "source": [
        "print(\"Estudiar es un esfuerzo constante,\\nEs como cultivar una planta,\\nNecesitamos dedicación y paciencia,\\nPara ver madurar el fruto.\")\n"
      ],
      "metadata": {
        "colab": {
          "base_uri": "https://localhost:8080/"
        },
        "id": "5YPFY7zfljcp",
        "outputId": "e1cae4ee-1842-48c5-f4de-2944670d1e38"
      },
      "execution_count": null,
      "outputs": [
        {
          "output_type": "stream",
          "name": "stdout",
          "text": [
            "Estudiar es un esfuerzo constante,\n",
            "Es como cultivar una planta,\n",
            "Necesitamos dedicación y paciencia,\n",
            "Para ver madurar el fruto.\n"
          ]
        }
      ]
    },
    {
      "cell_type": "markdown",
      "source": [
        "\\t es el carácter de tabulación y se utiliza para agregar un espacio de tabulación en el texto. Ejemplo:"
      ],
      "metadata": {
        "id": "zkCWXacwlosv"
      }
    },
    {
      "cell_type": "code",
      "source": [
        "print('Cantidad\\tCalidad\\n5 muestras\\tAlta\\n3 muestras\\tBaja')\n"
      ],
      "metadata": {
        "colab": {
          "base_uri": "https://localhost:8080/"
        },
        "id": "2JqZCmjklp4d",
        "outputId": "fd1566d1-bb47-4671-e54c-dea944b454f6"
      },
      "execution_count": null,
      "outputs": [
        {
          "output_type": "stream",
          "name": "stdout",
          "text": [
            "Cantidad\tCalidad\n",
            "5 muestras\tAlta\n",
            "3 muestras\tBaja\n"
          ]
        }
      ]
    },
    {
      "cell_type": "markdown",
      "source": [
        "\\\\ se usa para imprimir una sola barra invertida. Si no se utiliza una doble barra invertida, el código podría generar un error o un resultado inesperado, ya que Python considera \\ como un carácter especial. Usamos esta sintaxis para garantizar que no ocurran errores. Ejemplo:\n",
        "\n"
      ],
      "metadata": {
        "id": "FUUxedk7l6ku"
      }
    },
    {
      "cell_type": "code",
      "source": [
        "print(\"Ruta del archivo: C:\\\\archivos\\\\documento.csv\")\n"
      ],
      "metadata": {
        "colab": {
          "base_uri": "https://localhost:8080/"
        },
        "id": "2wrzNGHAl73F",
        "outputId": "0057389c-fabd-43d1-c64e-338f1af2de04"
      },
      "execution_count": null,
      "outputs": [
        {
          "output_type": "stream",
          "name": "stdout",
          "text": [
            "Ruta del archivo: C:\\archivos\\documento.csv\n"
          ]
        }
      ]
    },
    {
      "cell_type": "markdown",
      "source": [
        "\\\" se utiliza para imprimir comillas dobles cuando estamos trabajando con una cadena creada con comillas dobles \" en el interior. Sin embargo, esto no es necesario si la cadena se crea con comillas simples '. Ejemplo:\n",
        "\n"
      ],
      "metadata": {
        "id": "uYH_W_VGl_Bd"
      }
    },
    {
      "cell_type": "code",
      "source": [
        "print(\"Una vez oí: \\\"Los frutos del conocimiento son los más dulces y duraderos de todos.\\\"\")\n"
      ],
      "metadata": {
        "colab": {
          "base_uri": "https://localhost:8080/"
        },
        "id": "b6gCTqlHmAOe",
        "outputId": "234e479c-5668-4e69-cd95-d2caeafb9ac4"
      },
      "execution_count": null,
      "outputs": [
        {
          "output_type": "stream",
          "name": "stdout",
          "text": [
            "Una vez oí: \"Los frutos del conocimiento son los más dulces y duraderos de todos.\"\n"
          ]
        }
      ]
    },
    {
      "cell_type": "markdown",
      "source": [
        "\\' se utiliza para imprimir comillas simples cuando estamos trabajando con una cadena creada con comillas simples '. Si la cadena se crea con comillas dobles \", esto no es necesario. Ejemplo:\n",
        "\n"
      ],
      "metadata": {
        "id": "wXVKH4h8mD6l"
      }
    },
    {
      "cell_type": "code",
      "source": [
        "print('Mi profesora una vez dijo: \\'Estudiar es la clave del éxito.\\'')\n"
      ],
      "metadata": {
        "colab": {
          "base_uri": "https://localhost:8080/"
        },
        "id": "QLtapYHomFNd",
        "outputId": "8db2a03f-8ecf-4571-dc37-f0aa029d2595"
      },
      "execution_count": null,
      "outputs": [
        {
          "output_type": "stream",
          "name": "stdout",
          "text": [
            "Mi profesora una vez dijo: 'Estudiar es la clave del éxito.'\n"
          ]
        }
      ]
    },
    {
      "cell_type": "markdown",
      "source": [
        "***ESTRUCTURAS CONDICIONALES***"
      ],
      "metadata": {
        "id": "JzFD6nufo7o3"
      }
    },
    {
      "cell_type": "markdown",
      "source": [
        "IF-ELSE\n",
        "\n",
        "Los comandos if-else son dos estructuras condicionales.\n",
        "\n",
        "if condicion:\n",
        "  realiza algo\n",
        "\n",
        "  \n",
        "else\n",
        "  realiza algo::"
      ],
      "metadata": {
        "id": "n7rQkf7LpUdH"
      }
    },
    {
      "cell_type": "code",
      "source": [
        "nota = float(input('Inserte la nota: '))\n",
        "\n",
        "if nota >= 7:\n",
        "  print(\"Aprobo\")\n",
        "elif 7> nota >= 5:\n",
        "  print(\"recuperacion\")\n",
        "else:\n",
        "  print(\"reprobo\")"
      ],
      "metadata": {
        "colab": {
          "base_uri": "https://localhost:8080/"
        },
        "id": "QFSGorSTqfbr",
        "outputId": "5f7b7106-5695-49cf-8d13-5f803946315f"
      },
      "execution_count": null,
      "outputs": [
        {
          "output_type": "stream",
          "name": "stdout",
          "text": [
            "Inserte la nota: 4.9\n",
            "reprobo\n"
          ]
        }
      ]
    },
    {
      "cell_type": "markdown",
      "source": [
        "***OPERADORES***\n",
        "\n",
        "Durante la construccion de comandos, a veces se necesita de una elaboracion mayor de la expresión condicional, necesitando que alguno de los operadores logicos se encuentren integrados.\n",
        "\n",
        "\n",
        "\n",
        "1.   *AND*.- es usado para verificar si dos condiciones so verdaderas\n",
        "2.   *OR*.- es usado para verificar si al menos una de las condiciones es verdadera\n",
        "3.    *NOT*.- es usado para negar una condicion\n",
        "\n"
      ],
      "metadata": {
        "id": "_qxiSZ6Tebwz"
      }
    },
    {
      "cell_type": "code",
      "source": [
        "v = True\n",
        "f = False\n",
        "if(v and v):\n",
        "  print(\"La condicion es verdadera\")\n",
        "else:\n",
        "  print(\"La condicion es falsa\")\n",
        "\n",
        "v = False\n",
        "f = False\n",
        "if(v and v):\n",
        "  print(\"La condicion es verdadera\")\n",
        "else:\n",
        "  print(\"La condicion es falsa\")"
      ],
      "metadata": {
        "colab": {
          "base_uri": "https://localhost:8080/"
        },
        "id": "g1x9YEKxgqc1",
        "outputId": "8991e022-fb9c-468a-ef46-88759aea89ad"
      },
      "execution_count": null,
      "outputs": [
        {
          "output_type": "stream",
          "name": "stdout",
          "text": [
            "La condicion es verdadera\n",
            "La condicion es falsa\n"
          ]
        }
      ]
    },
    {
      "cell_type": "markdown",
      "source": [
        "**EJERCICIOS**\n",
        "\n",
        "1- Escribir un programa que pida a las personas usuarias que proporcionen dos numeros y muestre el numero mas grande"
      ],
      "metadata": {
        "id": "pZxuX_Knh518"
      }
    },
    {
      "cell_type": "code",
      "source": [
        "#Inicializacion de variables\n",
        "print(\"Programa que compara dos numeros e identifica al mayor\")\n",
        "primerDato = float(input(\"Ingrese el primer numero: \"))\n",
        "segundoDato = float(input(\"Ingrese el segundo numero: \"))\n",
        "\n",
        "#Comparacion de las variables\n",
        "print(\"Realizando la comparacion\")\n",
        "if(primerDato > segundoDato):\n",
        "  print(f\"El numero mayor es: {primerDato}\")\n",
        "else:\n",
        "  print(f\"El numero mayor es: {segundoDato}\")"
      ],
      "metadata": {
        "colab": {
          "base_uri": "https://localhost:8080/"
        },
        "id": "B7R3fTwCiOGk",
        "outputId": "6cf1ec03-5c40-4992-eb20-df749b89988b"
      },
      "execution_count": null,
      "outputs": [
        {
          "output_type": "stream",
          "name": "stdout",
          "text": [
            "Programa que compara dos numeros e identifica al mayor\n",
            "Ingrese el primer numero: 8\n",
            "Ingrese el segundo numero: 7\n",
            "Realizando la comparacion\n",
            "El numero mayor es: 8.0\n"
          ]
        }
      ]
    },
    {
      "cell_type": "markdown",
      "source": [
        "2- Escribir un programa que determine si una letra proporcionada por la persona usuaria es una vocal o una consonante\n"
      ],
      "metadata": {
        "id": "qQiAhQpOjLZ0"
      }
    },
    {
      "cell_type": "code",
      "source": [
        "#Inicializacion de las variables tipo listas\n",
        "\n",
        "vocales = [\"a\",\"e\",\"i\",\"o\",\"u\"]\n",
        "consonantes = [\"b\",\"c\",\"d\",\"f\",\"g\",\"h\",\"j\",\"k\",\"l\",\"m\",\"n\",\"ñ\",\"p\",\"q\",\"r\",\"s\",\"t\",\"v\",\"w\",\"x\",\"y\",\"z\"]\n",
        "letra = input(\"Introduzca la letra: \")\n",
        "if letra in vocales:\n",
        "  print(\"Es una vocal\")\n",
        "elif letra in consonantes:\n",
        "  print(\"Es una consonante\")\n",
        "else:\n",
        "  print(\"No es una letra, Es una consonante\")\n"
      ],
      "metadata": {
        "colab": {
          "base_uri": "https://localhost:8080/"
        },
        "id": "Z0helpHJjYwb",
        "outputId": "54317de3-40c2-48d6-85fc-0471e895f44d"
      },
      "execution_count": null,
      "outputs": [
        {
          "output_type": "stream",
          "name": "stdout",
          "text": [
            "Introduzca la letra: b\n",
            "Es una consonante\n"
          ]
        }
      ]
    },
    {
      "cell_type": "markdown",
      "source": [
        "**ESTRUCTURAS DE REPETICION**\n",
        "\n",
        "Cuando se tiene que ejecutar un mismo bloque de comandos durante varias ocasiones no es nada practico hacerlo a mano"
      ],
      "metadata": {
        "id": "ZLuKqhRJlXiX"
      }
    },
    {
      "cell_type": "markdown",
      "source": [
        "**WHILE**\n",
        "\n",
        "es una estructura de control de repeticion que permite ejecutar un bloque de codigo repetidamente minetras que una determinada condicion sea verdadera"
      ],
      "metadata": {
        "id": "ZSdGHmwymiy-"
      }
    },
    {
      "cell_type": "code",
      "source": [
        "intentos = 0\n",
        "while(intentos < 2):\n",
        "  nota1 = float(input(\"Ingrese la nota 1: \"))\n",
        "  nota2 = float(input(\"Ingrese la nota 2: \"))\n",
        "  nota3 = float(input(\"Ingrese la nota 3: \"))\n",
        "\n",
        "  nota = (nota1 + nota2 + nota3)/3\n",
        "  print(f\"El promedio de notas es: {nota}\")\n",
        "  intentos += 1\n"
      ],
      "metadata": {
        "colab": {
          "base_uri": "https://localhost:8080/"
        },
        "id": "jzc4rdDxlzrk",
        "outputId": "dd86f81d-c2ac-4c95-9c08-74e3cf36c3ae"
      },
      "execution_count": null,
      "outputs": [
        {
          "output_type": "stream",
          "name": "stdout",
          "text": [
            "Ingrese la nota 1: 4\n",
            "Ingrese la nota 2: 5\n",
            "Ingrese la nota 3: 3\n",
            "El promedio de notas es: 4.0\n",
            "Ingrese la nota 1: 7\n",
            "Ingrese la nota 2: 8\n",
            "Ingrese la nota 3: 6\n",
            "El promedio de notas es: 7.0\n"
          ]
        }
      ]
    },
    {
      "cell_type": "markdown",
      "source": [
        "**FOR**\n",
        "\n",
        "Es un tipo de estructura de control de flujo en python que permite iterar sobre un conjunto de elementos"
      ],
      "metadata": {
        "id": "Er1rqhpGopxW"
      }
    },
    {
      "cell_type": "code",
      "source": [
        "for n in range(1,11):\n",
        "  print(n)"
      ],
      "metadata": {
        "colab": {
          "base_uri": "https://localhost:8080/"
        },
        "id": "mvWrS8mgozAk",
        "outputId": "34dd273c-2165-41c3-fdb6-f805f9f9a28d"
      },
      "execution_count": null,
      "outputs": [
        {
          "output_type": "stream",
          "name": "stdout",
          "text": [
            "1\n",
            "2\n",
            "3\n",
            "4\n",
            "5\n",
            "6\n",
            "7\n",
            "8\n",
            "9\n",
            "10\n"
          ]
        }
      ]
    },
    {
      "cell_type": "code",
      "source": [
        "#in range considera el primer dato como 1 y el ultimo dato es 3\n",
        "\n",
        "for n in range(1,4):\n",
        "  nota1 = float(input(\"Ingrese la nota 1: \"))\n",
        "  nota2 = float(input(\"Ingrese la nota 2: \"))\n",
        "  nota3 = float(input(\"Ingrese la nota 3: \"))\n",
        "\n",
        "  nota = (nota1 + nota2 + nota3)/3\n",
        "  print(f\"El promedio de notas es: {nota}\")"
      ],
      "metadata": {
        "id": "nZpO53E7pR6k"
      },
      "execution_count": null,
      "outputs": []
    },
    {
      "cell_type": "markdown",
      "source": [
        "Cuando se trabajan con bucles, se puede controlar el flujo de ejecucion dentro del bloque de codigo, lo que permite manipular la ejecucion de los bucles.\n",
        "CONTINUE y BREAK son los comandos de control que se puede usar con los bucles for y while.\n",
        "CONTINUE interrumpe la iteracion actual del bucle y salta a la siguiente, es decir, regresa al inicio del codigo. Como ejemplo, aqui hay un codigo que cuenta del 1 al 5 con un bucle for:\n",
        "\n"
      ],
      "metadata": {
        "id": "wj7L69n0qC_N"
      }
    },
    {
      "cell_type": "code",
      "source": [
        "for i in range(1, 6):\n",
        "    if i == 4:\n",
        "        continue\n",
        "    print(i)\n"
      ],
      "metadata": {
        "colab": {
          "base_uri": "https://localhost:8080/"
        },
        "id": "dtWwcxaZqq_2",
        "outputId": "ebaa7c78-e0ad-46b8-b744-a34f9d18118f"
      },
      "execution_count": null,
      "outputs": [
        {
          "output_type": "stream",
          "name": "stdout",
          "text": [
            "1\n",
            "2\n",
            "3\n",
            "5\n"
          ]
        }
      ]
    },
    {
      "cell_type": "markdown",
      "source": [
        "Este código imprime todos los números del 1 al 5, excepto el 4. Cuando el valor de i es 4, continue salta a la siguiente iteración, omitiendo la instrucción print después de la condición en la iteración actual.\n",
        "\n",
        "Por otro lado, break detiene por completo la ejecución del bucle, saliendo del bloque de código. Utilicemos el mismo ejemplo de conteo, pero esta vez con break:"
      ],
      "metadata": {
        "id": "aX6hJftFqwFk"
      }
    },
    {
      "cell_type": "code",
      "source": [
        "for i in range(1, 6):\n",
        "    if i == 4:\n",
        "        break\n",
        "    print(i)\n",
        "print(\"EJECUCION DEL BUCLE FINALIZADA\")"
      ],
      "metadata": {
        "colab": {
          "base_uri": "https://localhost:8080/"
        },
        "id": "7BhY5rhKqzeN",
        "outputId": "847c5fad-b4e6-4320-c160-9db92afe9fb3"
      },
      "execution_count": null,
      "outputs": [
        {
          "output_type": "stream",
          "name": "stdout",
          "text": [
            "1\n",
            "2\n",
            "3\n",
            "EJECUCION DEL BUCLE FINALIZADA\n"
          ]
        }
      ]
    },
    {
      "cell_type": "markdown",
      "source": [
        "En este caso, el código imprime todos los números del 1 al 3. Cuando el valor de i es 4, break interrumpe por completo la ejecución del bucle y sale de él, ignorando cualquier otra iteración que esté dentro de la estructura."
      ],
      "metadata": {
        "id": "vy9g5hY8q7Pd"
      }
    },
    {
      "cell_type": "markdown",
      "source": [
        "**ESTRUCTURAS DE DATOS**\n",
        "\n",
        "Un conjunto de elementos es una coleccion de items, que son almacenados juntos de manera organizada. Algunos ejemplos de conjunos de elementos en Python son las listas, los strings y los diccionarios.\n",
        "\n",
        "Las listas pueden almacenar una coleccion de items en orden. Ellas son delimitadas por corchetes y sus elementos son separados por comas.\n",
        "Estas pueden alamcenar cualquier tipo de items como numeros, strings, objetos y otras listas.\n",
        "\n"
      ],
      "metadata": {
        "id": "xXQZaST1TLe1"
      }
    },
    {
      "cell_type": "code",
      "source": [
        "lista = [\"Penelope Camacho\",2,True]\n",
        "print(type(lista))\n",
        "print (lista)"
      ],
      "metadata": {
        "colab": {
          "base_uri": "https://localhost:8080/"
        },
        "id": "D2t8CuYMTxn-",
        "outputId": "0658d201-f293-4fd9-d13f-79831d042021"
      },
      "execution_count": null,
      "outputs": [
        {
          "output_type": "stream",
          "name": "stdout",
          "text": [
            "<class 'list'>\n",
            "['Penelope Camacho', 2, True]\n"
          ]
        }
      ]
    },
    {
      "cell_type": "markdown",
      "source": [
        "Como se ha visto en clases anteriores, una cadena es un tipo de dato que corresponde a datos de texto. Cuando creamos una cadena, estamos agrupando varios caracteres (números, letras e incluso símbolos), y cada uno de ellos tiene sus índices. Como ejemplo, creemos una cadena con el nombre \"Python\":"
      ],
      "metadata": {
        "id": "gDL72HqwU2fm"
      }
    },
    {
      "cell_type": "code",
      "source": [
        "lenguaje = 'Python'\n"
      ],
      "metadata": {
        "id": "pJsYHF2lU9M-"
      },
      "execution_count": null,
      "outputs": []
    },
    {
      "cell_type": "markdown",
      "source": [
        "Cada carácter de la cadena \"lenguaje\" se puede acceder mediante su índice, que comienza en 0 y va hasta la cantidad de caracteres de la cadena menos 1, incluyendo índices negativos. Podemos acceder a ellos de la misma manera que lo hacemos con las listas:"
      ],
      "metadata": {
        "id": "FgOXlmdRVFF1"
      }
    },
    {
      "cell_type": "code",
      "source": [
        "print(lenguaje[0], lenguaje[1], lenguaje[2], lenguaje[-3], lenguaje[-2], lenguaje[-1])\n"
      ],
      "metadata": {
        "colab": {
          "base_uri": "https://localhost:8080/"
        },
        "id": "Op3RBzTMVHb2",
        "outputId": "0ae5b542-738f-4f92-8139-9bbac135d472"
      },
      "execution_count": null,
      "outputs": [
        {
          "output_type": "stream",
          "name": "stdout",
          "text": [
            "P y t h o n\n"
          ]
        }
      ]
    },
    {
      "cell_type": "markdown",
      "source": [
        "Sin embargo, los índices solo se utilizan para acceder a los datos y no se puede cambiar el carácter presente en un índice específico mediante una simple asignación, como se hace con las listas. Por ejemplo, el código lenguaje[0] = 'p' generará un error en la compilación.\n"
      ],
      "metadata": {
        "id": "MrTPPmwTVMCO"
      }
    },
    {
      "cell_type": "markdown",
      "source": [
        "Con esto en mente, podríamos pensar que una cadena es una estructura de datos similar a una lista, ¿verdad? En realidad, no lo es. Una cadena es una secuencia de caracteres (letras, números, símbolos, etc.) representada por una sola variable. Por otro lado, una estructura de datos almacena una colección de elementos (que pueden ser de diferentes tipos) en una sola variable.\n",
        "\n",
        "Sin embargo, es posible convertir una cadena en una lista mediante el método split(). Este método divide la cadena en una lista de cadenas, utilizando un delimitador especificado entre paréntesis. Este delimitador debe ser una cadena. Como ejemplo, convirtamos la cadena en una lista dividiéndola cada vez que aparezca el signo de interrogación \"?\":"
      ],
      "metadata": {
        "id": "kzn6il_zVWZe"
      }
    },
    {
      "cell_type": "code",
      "source": [
        "pregunta = '¿Quién vino primero? ¿El huevo? ¿O fue la serpiente?'\n",
        "lista_palabras = pregunta.split('?')\n",
        "print(lista_palabras)\n"
      ],
      "metadata": {
        "colab": {
          "base_uri": "https://localhost:8080/"
        },
        "id": "5jVYENKmVYL8",
        "outputId": "8c456700-90da-4ae2-b293-1c730ccd1e5e"
      },
      "execution_count": null,
      "outputs": [
        {
          "output_type": "stream",
          "name": "stdout",
          "text": [
            "['¿Quién vino primero', ' ¿El huevo', ' ¿O fue la serpiente', '']\n"
          ]
        }
      ]
    },
    {
      "cell_type": "markdown",
      "source": [
        "El delimitador no aparece en la separación. Si no se define un delimitador, la cadena se separará por todos los espacios en blanco en el texto."
      ],
      "metadata": {
        "id": "AHCL69YfVdKF"
      }
    },
    {
      "cell_type": "code",
      "source": [
        "pregunta = '¿Quién vino primero? ¿El huevo? ¿O fue la serpiente?'\n",
        "lista_palabras = pregunta.split()\n",
        "print(lista_palabras)\n"
      ],
      "metadata": {
        "colab": {
          "base_uri": "https://localhost:8080/"
        },
        "id": "KyarOqvwVeAk",
        "outputId": "f360f7c3-c0f8-4835-bdb6-19e5fa441652"
      },
      "execution_count": null,
      "outputs": [
        {
          "output_type": "stream",
          "name": "stdout",
          "text": [
            "['¿Quién', 'vino', 'primero?', '¿El', 'huevo?', '¿O', 'fue', 'la', 'serpiente?']\n"
          ]
        }
      ]
    },
    {
      "cell_type": "markdown",
      "source": [
        "Lo contrario también es posible, ya que podemos convertir una lista en una cadena mediante el método join(). Para usar esta función, debemos definir el carácter que se utilizará para unir los elementos de la lista y formar la cadena. Luego, usamos el método { join() pasando la lista como argumento. Veamos un ejemplo con una lista que contiene el resultado de algunas mezclas de colores primarios en pintura:"
      ],
      "metadata": {
        "id": "A29pV2V3VrTN"
      }
    },
    {
      "cell_type": "code",
      "source": [
        "mezclas = ['Pinturas: rojo, azul y amarillo',\n",
        "            'Verde: mezcla de azul y amarillo',\n",
        "            'Naranja: mezcla de rojo y amarillo',\n",
        "            'Morado: mezcla de rojo y azul']\n",
        "unificador = '. '\n",
        "cadena_mezclas = unificador.join(mezclas)\n",
        "print(cadena_mezclas)\n"
      ],
      "metadata": {
        "colab": {
          "base_uri": "https://localhost:8080/"
        },
        "id": "QmsmepnOVsTe",
        "outputId": "57212f4d-3fb9-4e5a-b395-8cd6995dd786"
      },
      "execution_count": null,
      "outputs": [
        {
          "output_type": "stream",
          "name": "stdout",
          "text": [
            "Pinturas: rojo, azul y amarillo. Verde: mezcla de azul y amarillo. Naranja: mezcla de rojo y amarillo. Morado: mezcla de rojo y azul\n"
          ]
        }
      ]
    },
    {
      "cell_type": "markdown",
      "source": [
        "Hemos estudiado algunos métodos en clase, y además de esos, podemos utilizar otros para manipular listas en Python. Vamos a conocerlos y ver ejemplos de cómo se utilizan. En todos los casos, utilizaremos la siguiente lista llamada \"razas_de_perros\":"
      ],
      "metadata": {
        "id": "72ku4X65W8SP"
      }
    },
    {
      "cell_type": "code",
      "source": [
        "razas_de_perros = ['Labrador Retriever',\n",
        "                   'Bulldog Francés',\n",
        "                   'Pastor Alemán',\n",
        "                   'Poodle']\n"
      ],
      "metadata": {
        "id": "yO6LfZtWW9Vu"
      },
      "execution_count": null,
      "outputs": []
    },
    {
      "cell_type": "markdown",
      "source": [
        "El primer método es insert(), que permite insertar un elemento en una posición específica de la lista. La sintaxis es lista.insert(indice, elemento), donde \"lista\" es la lista que recibirá el nuevo elemento, \"indice\" es la posición donde se insertará el nuevo elemento y \"elemento\" es el nuevo elemento que se insertará."
      ],
      "metadata": {
        "id": "LTrJfp7NXC2c"
      }
    },
    {
      "cell_type": "code",
      "source": [
        "razas_de_perros.insert(1, 'Golden Retriever')\n",
        "razas_de_perros\n"
      ],
      "metadata": {
        "colab": {
          "base_uri": "https://localhost:8080/"
        },
        "id": "kjDooLWyXED0",
        "outputId": "ed415ff5-23f8-48e4-c091-6e1636cfa8a5"
      },
      "execution_count": null,
      "outputs": [
        {
          "output_type": "execute_result",
          "data": {
            "text/plain": [
              "['Labrador Retriever',\n",
              " 'Golden Retriever',\n",
              " 'Bulldog Francés',\n",
              " 'Pastor Alemán',\n",
              " 'Poodle']"
            ]
          },
          "metadata": {},
          "execution_count": 10
        }
      ]
    },
    {
      "cell_type": "markdown",
      "source": [
        "iguiendo este enfoque, la estructura lista.insert(len(lista), elemento) es equivalente al uso del método append(), como vimos en el video anterior titulado \"Manipulación de listas\".\n",
        "\n",
        "El método pop() elimina el elemento en una posición específica de la lista y lo devuelve como salida al ejecutar el método. Solo necesitamos especificar, entre paréntesis, el índice del elemento que deseamos eliminar, y se eliminará de la lista. Por lo tanto, eliminemos la raza \"Golden Retriever\" que agregamos en el método anterior."
      ],
      "metadata": {
        "id": "VJ1sJj2qXP8t"
      }
    },
    {
      "cell_type": "code",
      "source": [
        "razas_de_perros.pop(1)\n"
      ],
      "metadata": {
        "colab": {
          "base_uri": "https://localhost:8080/",
          "height": 35
        },
        "id": "EYv_lfBYXQwU",
        "outputId": "0be829cd-155f-4d02-af55-7d3eadc23c6f"
      },
      "execution_count": null,
      "outputs": [
        {
          "output_type": "execute_result",
          "data": {
            "text/plain": [
              "'Golden Retriever'"
            ],
            "application/vnd.google.colaboratory.intrinsic+json": {
              "type": "string"
            }
          },
          "metadata": {},
          "execution_count": 11
        }
      ]
    },
    {
      "cell_type": "markdown",
      "source": [
        "El método index() devuelve el índice de un elemento específico en la lista. Para hacerlo, especificamos el elemento entre paréntesis. Para encontrar el índice de la raza \"Pastor Alemán\" en la lista, hacemos lo siguiente:"
      ],
      "metadata": {
        "id": "TrtWCL3TXUPu"
      }
    },
    {
      "cell_type": "code",
      "source": [
        "razas_de_perros.index('Pastor Alemán')\n"
      ],
      "metadata": {
        "colab": {
          "base_uri": "https://localhost:8080/"
        },
        "id": "KZUcfvp9XU_k",
        "outputId": "fdbfb394-6074-478b-97ca-735921b91b97"
      },
      "execution_count": null,
      "outputs": [
        {
          "output_type": "execute_result",
          "data": {
            "text/plain": [
              "2"
            ]
          },
          "metadata": {},
          "execution_count": 12
        }
      ]
    },
    {
      "cell_type": "markdown",
      "source": [
        "El método sort() ordena los elementos de la lista en orden ascendente o descendente. Si son palabras, el orden se basa en el orden alfabético o en el orden inverso. Para ordenar los valores, simplemente llamamos al método sort(), y la lista se organizará en orden. Para ordenar alfabéticamente la lista de razas de perros, podemos usar el siguiente código:"
      ],
      "metadata": {
        "id": "6I2iHHdlXYSu"
      }
    },
    {
      "cell_type": "code",
      "source": [
        "razas_de_perros.sort()\n",
        "razas_de_perros\n"
      ],
      "metadata": {
        "colab": {
          "base_uri": "https://localhost:8080/"
        },
        "id": "RtIR09CZXY11",
        "outputId": "9a69426e-9bbc-43ea-d682-c0bb208251de"
      },
      "execution_count": null,
      "outputs": [
        {
          "output_type": "execute_result",
          "data": {
            "text/plain": [
              "['Bulldog Francés', 'Labrador Retriever', 'Pastor Alemán', 'Poodle']"
            ]
          },
          "metadata": {},
          "execution_count": 13
        }
      ]
    },
    {
      "cell_type": "markdown",
      "source": [
        "***DICCIONARIOS***\n",
        "\n",
        "Los diccionarios son un tipo de estructura de datos que almacenan pares llave-valor. Estos son delimitados por llaves{}.\n",
        "La llave es un elemento unico que identifica a un valor en el diccionario, mientras que el valor es el item que sera almacenado para la llave.\n"
      ],
      "metadata": {
        "id": "JTy1YjiqYTHO"
      }
    },
    {
      "cell_type": "code",
      "source": [
        "diccionario = {'llave_1':1,\n",
        "               'llave_2':2}\n",
        "\n",
        "print(type(diccionario))"
      ],
      "metadata": {
        "colab": {
          "base_uri": "https://localhost:8080/"
        },
        "id": "aogKRk79YwSX",
        "outputId": "5010eef9-1df8-4961-b866-9fba8a9d4faa"
      },
      "execution_count": null,
      "outputs": [
        {
          "output_type": "stream",
          "name": "stdout",
          "text": [
            "<class 'dict'>\n"
          ]
        }
      ]
    },
    {
      "cell_type": "code",
      "source": [
        "estudiante ={\n",
        "    'matricula': 20001456,\n",
        "    'dia de registro':25,\n",
        "    'mes de registro': 10,\n",
        "    'grupo': '2e'\n",
        "}"
      ],
      "metadata": {
        "id": "dv-LwijIZAZ-"
      },
      "execution_count": null,
      "outputs": []
    },
    {
      "cell_type": "code",
      "source": [
        "estudiante['matricula']"
      ],
      "metadata": {
        "colab": {
          "base_uri": "https://localhost:8080/"
        },
        "id": "rW6pGNjCZS0g",
        "outputId": "31ec3314-486d-4e92-9757-2fafe01a70e9"
      },
      "execution_count": null,
      "outputs": [
        {
          "output_type": "execute_result",
          "data": {
            "text/plain": [
              "20001456"
            ]
          },
          "metadata": {},
          "execution_count": 18
        }
      ]
    },
    {
      "cell_type": "code",
      "source": [
        "estudiante['grupo']\n"
      ],
      "metadata": {
        "colab": {
          "base_uri": "https://localhost:8080/",
          "height": 35
        },
        "id": "lzFxR3NzZcNF",
        "outputId": "51da6462-a5c4-4463-8f6e-7fe614f0a8eb"
      },
      "execution_count": null,
      "outputs": [
        {
          "output_type": "execute_result",
          "data": {
            "text/plain": [
              "'2e'"
            ],
            "application/vnd.google.colaboratory.intrinsic+json": {
              "type": "string"
            }
          },
          "metadata": {},
          "execution_count": 19
        }
      ]
    },
    {
      "cell_type": "code",
      "source": [
        "estudiante['grupo'] = '3e'\n",
        "print(estudiante)"
      ],
      "metadata": {
        "colab": {
          "base_uri": "https://localhost:8080/"
        },
        "id": "OjwUKcDOZf4t",
        "outputId": "c09668e6-c7b7-4749-e684-3bf17babbf40"
      },
      "execution_count": null,
      "outputs": [
        {
          "output_type": "stream",
          "name": "stdout",
          "text": [
            "{'matricula': 20001456, 'dia de registro': 25, 'mes de registro': 10, 'grupo': '3e'}\n"
          ]
        }
      ]
    },
    {
      "cell_type": "code",
      "source": [
        "estudiante['modalidad'] = 'BAD'"
      ],
      "metadata": {
        "id": "gf8f9sUjZkxf"
      },
      "execution_count": null,
      "outputs": []
    },
    {
      "cell_type": "code",
      "source": [
        "print(estudiante)"
      ],
      "metadata": {
        "colab": {
          "base_uri": "https://localhost:8080/"
        },
        "id": "4Wgn-5hUZqv1",
        "outputId": "2f146deb-b8a4-4c84-e6c0-2db56958bbf0"
      },
      "execution_count": null,
      "outputs": [
        {
          "output_type": "stream",
          "name": "stdout",
          "text": [
            "{'matricula': 20001456, 'dia de registro': 25, 'mes de registro': 10, 'grupo': '3e', 'modalidad': 'BAD'}\n"
          ]
        }
      ]
    },
    {
      "cell_type": "markdown",
      "source": [
        "Durante las clases, trabajamos directamente con varias funciones incorporadas que son predefinidas y están disponibles por defecto en Python. Estas funciones trabajan como herramientas útiles para llevar a cabo tareas comunes, como conversiones de tipos, operaciones matemáticas, manipulación de cadenas y más, sin necesidad de escribir código adicional.\n",
        "\n",
        "Algunas de las funciones incorporadas que ya conocemos son: print(), input(), len(), int(), str(), float(), range(), chr(), etc. Pero hay otras además de estas que también son muy útiles, como: sum(), help() y dir(). ¿Las conocemos?\n",
        "\n",
        "sum()\n",
        "\n",
        "La función sum() permite sumar los elementos de una secuencia o estructura de datos. En el siguiente ejemplo, vamos a sumar los precios de productos:"
      ],
      "metadata": {
        "id": "WSpDZD9lbFEm"
      }
    },
    {
      "cell_type": "code",
      "source": [
        "precios = [100.0, 400.0, 200.0]\n",
        "suma = sum(precios)\n",
        "suma\n"
      ],
      "metadata": {
        "colab": {
          "base_uri": "https://localhost:8080/"
        },
        "id": "3hm3g15BbGbN",
        "outputId": "e671988f-beee-4c5e-9ee6-75b0f0e8e54f"
      },
      "execution_count": null,
      "outputs": [
        {
          "output_type": "execute_result",
          "data": {
            "text/plain": [
              "700.0"
            ]
          },
          "metadata": {},
          "execution_count": 23
        }
      ]
    },
    {
      "cell_type": "markdown",
      "source": [
        "help()\n",
        "\n",
        "La función help() se utiliza para acceder a la documentación de funciones, métodos y otros elementos de Python. Muestra información en inglés sobre la funcionalidad, sintaxis y uso de un objeto específico. Para usar esta función, simplemente pasa el elemento deseado entre paréntesis. Por ejemplo, vamos a verificar la documentación de la función print():"
      ],
      "metadata": {
        "id": "FEj3IHnNbLMv"
      }
    },
    {
      "cell_type": "code",
      "source": [
        "help(print)\n"
      ],
      "metadata": {
        "colab": {
          "base_uri": "https://localhost:8080/"
        },
        "id": "Sfc0woJJbMCt",
        "outputId": "894e18c7-7be8-4f88-a8f0-8f23a1f14ce3"
      },
      "execution_count": null,
      "outputs": [
        {
          "output_type": "stream",
          "name": "stdout",
          "text": [
            "Help on built-in function print in module builtins:\n",
            "\n",
            "print(*args, sep=' ', end='\\n', file=None, flush=False)\n",
            "    Prints the values to a stream, or to sys.stdout by default.\n",
            "    \n",
            "    sep\n",
            "      string inserted between values, default a space.\n",
            "    end\n",
            "      string appended after the last value, default a newline.\n",
            "    file\n",
            "      a file-like object (stream); defaults to the current sys.stdout.\n",
            "    flush\n",
            "      whether to forcibly flush the stream.\n",
            "\n"
          ]
        }
      ]
    },
    {
      "cell_type": "markdown",
      "source": [
        "dir()\n",
        "\n",
        "Por último, la función dir() se utiliza para mostrar una lista de atributos y métodos asociados a un elemento. Por ejemplo, vamos a descubrir todos los atributos y métodos de una lista:"
      ],
      "metadata": {
        "id": "XIfJbXeTbSPe"
      }
    },
    {
      "cell_type": "code",
      "source": [
        "lista = [1,2,3]\n",
        "dir(lista)\n"
      ],
      "metadata": {
        "colab": {
          "base_uri": "https://localhost:8080/"
        },
        "id": "CnZ3VYVZbS_9",
        "outputId": "dbc75381-2d3f-4a81-eb0b-30b7e523f18a"
      },
      "execution_count": null,
      "outputs": [
        {
          "output_type": "execute_result",
          "data": {
            "text/plain": [
              "['__add__',\n",
              " '__class__',\n",
              " '__class_getitem__',\n",
              " '__contains__',\n",
              " '__delattr__',\n",
              " '__delitem__',\n",
              " '__dir__',\n",
              " '__doc__',\n",
              " '__eq__',\n",
              " '__format__',\n",
              " '__ge__',\n",
              " '__getattribute__',\n",
              " '__getitem__',\n",
              " '__getstate__',\n",
              " '__gt__',\n",
              " '__hash__',\n",
              " '__iadd__',\n",
              " '__imul__',\n",
              " '__init__',\n",
              " '__init_subclass__',\n",
              " '__iter__',\n",
              " '__le__',\n",
              " '__len__',\n",
              " '__lt__',\n",
              " '__mul__',\n",
              " '__ne__',\n",
              " '__new__',\n",
              " '__reduce__',\n",
              " '__reduce_ex__',\n",
              " '__repr__',\n",
              " '__reversed__',\n",
              " '__rmul__',\n",
              " '__setattr__',\n",
              " '__setitem__',\n",
              " '__sizeof__',\n",
              " '__str__',\n",
              " '__subclasshook__',\n",
              " 'append',\n",
              " 'clear',\n",
              " 'copy',\n",
              " 'count',\n",
              " 'extend',\n",
              " 'index',\n",
              " 'insert',\n",
              " 'pop',\n",
              " 'remove',\n",
              " 'reverse',\n",
              " 'sort']"
            ]
          },
          "metadata": {},
          "execution_count": 25
        }
      ]
    },
    {
      "cell_type": "markdown",
      "source": [
        "1 - Crea un programa que tenga la siguiente lista con los gastos de una empresa de papel [2172.54, 3701.35, 3518.09, 3456.61, 3249.38, 2840.82, 3891.45, 3075.26, 2317.64, 3219.08]. Con estos valores, crea un programa que calcule el promedio de gastos. Sugerencia: usa las funciones integradas sum() y len()."
      ],
      "metadata": {
        "id": "KnkLV9XIbX5l"
      }
    },
    {
      "cell_type": "code",
      "source": [
        "#INICIALIZACION DE LAS VARIABLES\n",
        "gastos = [2172.54, 3701.35, 3518.09, 3456.61, 3249.38, 2840.82, 3891.45, 3075.26, 2317.64, 3219.08]\n",
        "divisor = len(gastos)\n",
        "\n",
        "\n",
        "suma = sum(gastos)\n",
        "promedio = suma/divisor\n",
        "print(f\"El promedio de gastos es: {promedio}\")"
      ],
      "metadata": {
        "colab": {
          "base_uri": "https://localhost:8080/"
        },
        "id": "9Pxy2PMVbbNV",
        "outputId": "f206125f-675c-40b9-bd5d-55c1d64af0e2"
      },
      "execution_count": null,
      "outputs": [
        {
          "output_type": "stream",
          "name": "stdout",
          "text": [
            "El promedio de gastos es: 3144.222\n"
          ]
        }
      ]
    },
    {
      "cell_type": "markdown",
      "source": [
        "2 - Con los mismos datos de la pregunta anterior, determina cuántas compras se realizaron por encima de 3000 reales y calcula el porcentaje con respecto al total de compras."
      ],
      "metadata": {
        "id": "i6ihX7k3cMKB"
      }
    },
    {
      "cell_type": "code",
      "source": [
        "#Inicializacion de la variable\n",
        "gastosMayoresA3000 = 0\n",
        "# Identificacion de los gastos mayores a 3000\n",
        "\n",
        "for gasto in gastos:\n",
        "  if gasto > 3000:\n",
        "    gastosMayoresA3000 += 1\n",
        "print(gastosMayoresA3000)"
      ],
      "metadata": {
        "colab": {
          "base_uri": "https://localhost:8080/"
        },
        "id": "IEhBUKq2cVTG",
        "outputId": "0bbc37c1-b798-470d-910b-4522ad447ac7"
      },
      "execution_count": null,
      "outputs": [
        {
          "output_type": "stream",
          "name": "stdout",
          "text": [
            "7\n"
          ]
        }
      ]
    },
    {
      "cell_type": "markdown",
      "source": [
        "3 - Crea un código que recoja en una lista 5 números enteros aleatorios e imprima la lista. Ejemplo: [1, 4, 7, 2, 4]."
      ],
      "metadata": {
        "id": "VwYAK9X4dCVX"
      }
    },
    {
      "cell_type": "code",
      "source": [
        "#Importamos la libreria Random, necesaria para obtener numeros aleatorios\n",
        "import random"
      ],
      "metadata": {
        "id": "d0q8Gwq3dejB"
      },
      "execution_count": null,
      "outputs": []
    },
    {
      "cell_type": "code",
      "source": [
        "#Variable de control\n",
        "intentos = 0;\n",
        "#Lista de almacenamiento de datos\n",
        "listaNumerosAleatorios = []\n",
        "while (intentos <= 4):\n",
        "  numero_aleatorio = random.randint(1, 10)  # Genera un entero entre 1 y 10 (inclusive)\n",
        "  #print(numero_aleatorio)\n",
        "\n",
        "  #Introducri los datos aletorios en la lista\n",
        "\n",
        "  listaNumerosAleatorios.append(numero_aleatorio)\n",
        "  #print(listaNumerosAleatorios)\n",
        "  intentos += 1\n",
        "print(\"Lista original: \",listaNumerosAleatorios)\n",
        "#Revertimos el orden de los elementos en la lista\n",
        "listaNumerosAleatorios.reverse()\n",
        "print(\"Lista revertida:\",listaNumerosAleatorios)\n",
        "\n",
        "print(\"Ejecucion finalizada\")\n"
      ],
      "metadata": {
        "colab": {
          "base_uri": "https://localhost:8080/"
        },
        "id": "DHNpknLRdudu",
        "outputId": "99963b66-910b-4a58-f578-ed4aa78c73c0"
      },
      "execution_count": null,
      "outputs": [
        {
          "output_type": "stream",
          "name": "stdout",
          "text": [
            "Lista original:  [8, 5, 6, 9, 3]\n",
            "Lista revertida: [3, 9, 6, 5, 8]\n",
            "Ejecucion finalizada\n"
          ]
        }
      ]
    },
    {
      "cell_type": "markdown",
      "source": [
        "5 - Crea un programa que, al ingresar un número cualquiera, genere una lista que contenga todos los números primos entre 1 y el número ingresado."
      ],
      "metadata": {
        "id": "nqFoXh-biFqZ"
      }
    },
    {
      "cell_type": "code",
      "source": [
        "# Recopilamos el número\n",
        "numero = int(input('Ingresa un número entero: '))\n",
        "# Lista para almacenar los números primos\n",
        "lista_primos = []\n",
        "# Bucle que recorre todos los números por debajo del número ingresado\n",
        "for num in range(2, numero):\n",
        "  # Primo es una bandera que nos permite saber si el valor analizado es primo o no.\n",
        "  primo = True\n",
        "  # Probamos si todos los números por debajo del especificado en el primer bucle pueden dar una división exacta.\n",
        "  for prueba_divisibles in range(2, num):\n",
        "    if num % prueba_divisibles == 0:\n",
        "      # Si es divisible por algún número, entendemos que el número no es primo y terminamos el bucle interno con break.\n",
        "      primo = False\n",
        "      break\n",
        "  # La condición se convierte en el resultado booleano de primo: False. Ignoramos la condición True y ejecutamos el bloque del if.\n",
        "  if primo:\n",
        "    lista_primos.append(num)\n",
        "# Resultado\n",
        "print(f'Lista de números primos: {lista_primos}')\n"
      ],
      "metadata": {
        "colab": {
          "base_uri": "https://localhost:8080/"
        },
        "id": "QS7CQ_baiKN3",
        "outputId": "8d79c31d-4ce1-4114-f86b-4deee1d8de1b"
      },
      "execution_count": null,
      "outputs": [
        {
          "output_type": "stream",
          "name": "stdout",
          "text": [
            "Ingresa un número entero: 8\n",
            "Lista de números primos: [2, 3, 5, 7]\n"
          ]
        }
      ]
    },
    {
      "cell_type": "markdown",
      "source": [],
      "metadata": {
        "id": "qCEApT8pp2s4"
      }
    },
    {
      "cell_type": "markdown",
      "source": [
        "8 - Para una selección de productos alimenticios, debemos separar el conjunto de IDs proporcionados por números enteros, sabiendo que los productos con ID par son dulces y los que tienen ID impar son amargos. Crea un código que recoja 10 IDs. Luego, calcula y muestra la cantidad de productos dulces y amargos."
      ],
      "metadata": {
        "id": "wMTSCP2Pp7Ti"
      }
    },
    {
      "cell_type": "code",
      "source": [
        "ids = []\n",
        "dulce = 0\n",
        "amargo = 0\n",
        "\n",
        "for i in range(10):\n",
        "    id = int(input(\"Ingrese el ID del producto: \"))\n",
        "    ids.append(id)\n",
        "\n",
        "for id in ids:\n",
        "    if id % 2 == 0:\n",
        "        dulce += 1\n",
        "    else:\n",
        "        amargo += 1\n",
        "\n",
        "print(\"Cantidad de productos dulces:\", dulce)\n",
        "print(\"Cantidad de productos amargos:\", amargo)"
      ],
      "metadata": {
        "colab": {
          "base_uri": "https://localhost:8080/"
        },
        "id": "X9mEnISdqBeQ",
        "outputId": "2e08bf71-45ff-4108-e2a8-11d396770928"
      },
      "execution_count": null,
      "outputs": [
        {
          "output_type": "stream",
          "name": "stdout",
          "text": [
            "Ingrese el ID del producto: 7\n",
            "Ingrese el ID del producto: 5\n",
            "Ingrese el ID del producto: 3\n",
            "Ingrese el ID del producto: 77\n",
            "Ingrese el ID del producto: 51\n",
            "Ingrese el ID del producto: 53\n",
            "Ingrese el ID del producto: 52\n",
            "Ingrese el ID del producto: 75\n",
            "Ingrese el ID del producto: 99\n",
            "Ingrese el ID del producto: 101\n",
            "Cantidad de productos dulces: 1\n",
            "Cantidad de productos amargos: 9\n"
          ]
        }
      ]
    },
    {
      "cell_type": "markdown",
      "source": [
        "10 - Un instituto de meteorología desea realizar un estudio de la temperatura media de cada mes del año. Para ello, debes crear un código que recoja y almacene esas temperaturas medias en una lista. Luego, calcula el promedio anual de las temperaturas y muestra todas las temperaturas por encima del promedio anual y en qué mes ocurrieron, mostrando los meses por su nombre (Enero, Febrero, etc.)."
      ],
      "metadata": {
        "id": "KhNYs0Dzrpef"
      }
    },
    {
      "cell_type": "code",
      "source": [
        "#Lista que contiene el promedio de las temperaturas mensuales\n",
        "\n",
        "temperaturaMensual = []\n",
        "meses = [\"Enero\",\"Febrero\",\"Marzo\",\"Abril\",\"Mayo\",\"Junio\",\"Julio\",\"Agosto\",\"Septiembre\",\"Octubre\",\"Noviembre\",\"Diciembre\"]\n",
        "\n",
        "for mes in range(1,13):\n",
        "  temperatura = float(input(f\"Ingrese la temperatura promedio del mes {mes}: \"))\n",
        "  temperaturaMensual.append(temperatura)\n",
        "  promedio = sum(temperaturaMensual)/len(temperaturaMensual)\n",
        "\n",
        "print(f\"El promedio anual de las temperaturas es: {promedio}\")\n",
        "#print(temperaturaMensual)\n",
        "\n",
        "for i in range(0, 12):\n",
        "  # Verificamos todas las temperaturas en comparación con la media anual\n",
        "  if temperaturaMensual[i] > promedio8:\n",
        "    # Dado que los índices de los meses corresponden a las temperaturas,\n",
        "    # podemos imprimirlos con el mismo índice\n",
        "    print(meses[i])\n"
      ],
      "metadata": {
        "colab": {
          "base_uri": "https://localhost:8080/",
          "height": 349
        },
        "id": "8Nq_D9qeryxf",
        "outputId": "1c5d6a9d-9fb8-44ca-df48-1ebf314ef0a8"
      },
      "execution_count": null,
      "outputs": [
        {
          "name": "stdout",
          "output_type": "stream",
          "text": [
            "Ingrese la temperatura promedio del mes 1: 1\n",
            "Ingrese la temperatura promedio del mes 2: 2\n",
            "Ingrese la temperatura promedio del mes 3: 3\n",
            "Ingrese la temperatura promedio del mes 4: 4\n",
            "Ingrese la temperatura promedio del mes 5: 5\n",
            "Ingrese la temperatura promedio del mes 6: 6\n",
            "Ingrese la temperatura promedio del mes 7: 7\n",
            "Ingrese la temperatura promedio del mes 8: \n"
          ]
        },
        {
          "output_type": "error",
          "ename": "ValueError",
          "evalue": "could not convert string to float: ''",
          "traceback": [
            "\u001b[0;31m---------------------------------------------------------------------------\u001b[0m",
            "\u001b[0;31mValueError\u001b[0m                                Traceback (most recent call last)",
            "\u001b[0;32m<ipython-input-67-e2b121142986>\u001b[0m in \u001b[0;36m<cell line: 0>\u001b[0;34m()\u001b[0m\n\u001b[1;32m      5\u001b[0m \u001b[0;34m\u001b[0m\u001b[0m\n\u001b[1;32m      6\u001b[0m \u001b[0;32mfor\u001b[0m \u001b[0mmes\u001b[0m \u001b[0;32min\u001b[0m \u001b[0mrange\u001b[0m\u001b[0;34m(\u001b[0m\u001b[0;36m1\u001b[0m\u001b[0;34m,\u001b[0m\u001b[0;36m13\u001b[0m\u001b[0;34m)\u001b[0m\u001b[0;34m:\u001b[0m\u001b[0;34m\u001b[0m\u001b[0;34m\u001b[0m\u001b[0m\n\u001b[0;32m----> 7\u001b[0;31m   \u001b[0mtemperatura\u001b[0m \u001b[0;34m=\u001b[0m \u001b[0mfloat\u001b[0m\u001b[0;34m(\u001b[0m\u001b[0minput\u001b[0m\u001b[0;34m(\u001b[0m\u001b[0;34mf\"Ingrese la temperatura promedio del mes {mes}: \"\u001b[0m\u001b[0;34m)\u001b[0m\u001b[0;34m)\u001b[0m\u001b[0;34m\u001b[0m\u001b[0;34m\u001b[0m\u001b[0m\n\u001b[0m\u001b[1;32m      8\u001b[0m   \u001b[0mtemperaturaMensual\u001b[0m\u001b[0;34m.\u001b[0m\u001b[0mappend\u001b[0m\u001b[0;34m(\u001b[0m\u001b[0mtemperatura\u001b[0m\u001b[0;34m)\u001b[0m\u001b[0;34m\u001b[0m\u001b[0;34m\u001b[0m\u001b[0m\n\u001b[1;32m      9\u001b[0m   \u001b[0mpromedio\u001b[0m \u001b[0;34m=\u001b[0m \u001b[0msum\u001b[0m\u001b[0;34m(\u001b[0m\u001b[0mtemperaturaMensual\u001b[0m\u001b[0;34m)\u001b[0m\u001b[0;34m/\u001b[0m\u001b[0mlen\u001b[0m\u001b[0;34m(\u001b[0m\u001b[0mtemperaturaMensual\u001b[0m\u001b[0;34m)\u001b[0m\u001b[0;34m\u001b[0m\u001b[0;34m\u001b[0m\u001b[0m\n",
            "\u001b[0;31mValueError\u001b[0m: could not convert string to float: ''"
          ]
        }
      ]
    }
  ]
}